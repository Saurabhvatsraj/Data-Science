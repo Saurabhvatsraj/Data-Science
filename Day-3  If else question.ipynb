{
 "cells": [
  {
   "cell_type": "markdown",
   "id": "cce890e2",
   "metadata": {},
   "source": [
    "QUES-1 \n",
    "\n",
    "A company decided to give bonus of 5% to employee if his/her year of service is more than 5 years.\n",
    "Ask user for their salary and year of service and print the net bonus amount.\n"
   ]
  },
  {
   "cell_type": "code",
   "execution_count": 1,
   "id": "426c7871",
   "metadata": {},
   "outputs": [
    {
     "name": "stdout",
     "output_type": "stream",
     "text": [
      "enter the salary7237329\n",
      "enter the exp8\n",
      "bonus amount 361866.45\n",
      "total_salary 7599195.45\n"
     ]
    }
   ],
   "source": [
    "salary=int(input(\"enter the salary\"))\n",
    "yrs_of_exp=int(input(\"enter the exp\"))\n",
    "net_bonus=salary* .05\n",
    "total_salary=salary+net_bonus\n",
    "if yrs_of_exp>5:\n",
    "    print(\"bonus amount\",net_bonus)\n",
    "    print(\"total_salary\",total_salary)\n",
    "else:\n",
    "    print(\"no bonus\")"
   ]
  },
  {
   "cell_type": "markdown",
   "id": "e4fe9a27",
   "metadata": {},
   "source": [
    "QUES-2\n",
    "\n",
    "Take values of length and breadth of a rectangle from user and check if it is square or not."
   ]
  },
  {
   "cell_type": "code",
   "execution_count": 2,
   "id": "7ae41902",
   "metadata": {},
   "outputs": [
    {
     "name": "stdout",
     "output_type": "stream",
     "text": [
      "enter the len7\n",
      "enter the bre42\n",
      "Not Square\n"
     ]
    }
   ],
   "source": [
    "l=int(input(\"enter the len\"))\n",
    "b=int(input(\"enter the bre\"))\n",
    "if l*b==l**l or l*b==b*b:\n",
    "    print(\"Square\")\n",
    "else:\n",
    "    print(\"Not Square\")"
   ]
  },
  {
   "cell_type": "markdown",
   "id": "975418ff",
   "metadata": {},
   "source": [
    "QUES-3\n",
    "\n",
    "Take two int values from user and print greatest among them."
   ]
  },
  {
   "cell_type": "code",
   "execution_count": 3,
   "id": "1a5ba19e",
   "metadata": {},
   "outputs": [
    {
     "name": "stdout",
     "output_type": "stream",
     "text": [
      "enter the number 4652\n",
      "enter the number2452\n",
      "A is maximum   4652\n"
     ]
    }
   ],
   "source": [
    "a=int(input(\"enter the number \"))\n",
    "b=int(input(\"enter the number\"))\n",
    "if a>b:\n",
    "    print(\"A is maximum  \",a)\n",
    "else:\n",
    "    print(\"B is maximum  \",b)\n",
    "\n",
    "\n"
   ]
  },
  {
   "cell_type": "markdown",
   "id": "f1c85077",
   "metadata": {},
   "source": [
    "QUES-4\n",
    "\n",
    "A shop will give discount of 10% if the cost of purchased quantity is more than 1000.\n",
    "Ask user for quantity\n",
    "Suppose, one unit will cost 100.\n",
    "Judge and print total cost for user.\n"
   ]
  },
  {
   "cell_type": "code",
   "execution_count": 4,
   "id": "45bf61ed",
   "metadata": {},
   "outputs": [
    {
     "name": "stdout",
     "output_type": "stream",
     "text": [
      "enter the quantity22\n",
      "total_cost_price 1980.0\n"
     ]
    }
   ],
   "source": [
    "quantity=int(input(\"enter the quantity\"))\n",
    "per_cost=100\n",
    "total_quantity=quantity*per_cost\n",
    "total_cost=total_quantity-total_quantity*.10\n",
    "\n",
    "\n",
    "if total_quantity>1000:\n",
    "    print(\"total_cost_price\",total_cost)\n",
    "else:\n",
    "    print(\"no discount\")\n",
    "    \n",
    "    "
   ]
  },
  {
   "cell_type": "markdown",
   "id": "cba6fe56",
   "metadata": {},
   "source": [
    "QUES-5\n",
    "\n",
    "Take input of age of 3 people by user and determine oldest and youngest among them."
   ]
  },
  {
   "cell_type": "code",
   "execution_count": 9,
   "id": "d6dbeccd",
   "metadata": {},
   "outputs": [
    {
     "name": "stdout",
     "output_type": "stream",
     "text": [
      "Enter the  number67\n",
      "Enter the  number89\n",
      "Enter the  number66\n",
      "B is max 89\n"
     ]
    }
   ],
   "source": [
    "a=int(input(\"Enter the  number\"))\n",
    "b=int(input(\"Enter the  number\"))\n",
    "c=int(input(\"Enter the  number\"))\n",
    "\n",
    "if a>b and a>c:\n",
    "    print(\"A is max  \",a)\n",
    "    \n",
    "elif b>a and b>c:\n",
    "    print(\"B is max\",b)\n",
    "elif c>a and c>b:\n",
    "    print(\"C is max\",c)\n",
    "\n",
    "    \n",
    "    \n"
   ]
  },
  {
   "cell_type": "markdown",
   "id": "e25e4c26",
   "metadata": {},
   "source": [
    "QUES-6\n",
    "\n",
    "A student will not be allowed to sit in exam if his/her attendence is less than 75%.\n",
    "Take following input from user\n",
    "Number of classes held\n",
    "Number of classes attended.\n",
    "And print\n",
    "percentage of class attended\n",
    "Is student is allowed to sit in exam or not.\n",
    "________________________________________\n",
    "\n",
    "\n",
    "Modify the above question to allow student to sit if he/she has medical cause. Ask user if he/she has medical cause or not ( 'Y' or 'N' ) and print accordingly."
   ]
  },
  {
   "cell_type": "code",
   "execution_count": 10,
   "id": "cd49ac46",
   "metadata": {},
   "outputs": [
    {
     "name": "stdout",
     "output_type": "stream",
     "text": [
      "enter the total class100\n",
      "enter the attend class89\n",
      "y/nN\n",
      "Allowed\n"
     ]
    }
   ],
   "source": [
    "total_class=int(input(\"enter the total class\"))\n",
    "attend_class=int(input(\"enter the attend class\"))\n",
    "medical_case=input(\"y/n\")\n",
    "per_attend=(attend_class/total_class)*100\n",
    "if per_attend>75:\n",
    "    print(\"Allowed\")\n",
    "elif per_attend<75 and medical_case=='y':\n",
    "    print(\"allowed\")\n",
    "else:\n",
    "    print(\"not allowed\")"
   ]
  },
  {
   "cell_type": "markdown",
   "id": "6bcf3fd3",
   "metadata": {},
   "source": [
    "QUES-7\n",
    "\n",
    "Wap to print if n is odd print wierd and the range of 2-5 print not wierd if n is even and the inclusive range of 6-20 print wierd if n is even & grater than 20 print not wierd"
   ]
  },
  {
   "cell_type": "code",
   "execution_count": 14,
   "id": "3a756b1e",
   "metadata": {},
   "outputs": [
    {
     "name": "stdout",
     "output_type": "stream",
     "text": [
      "not wierd\n"
     ]
    }
   ],
   "source": [
    "n=5\n",
    "if n%2!=0:\n",
    "    if n>=2 and n<=5:\n",
    "        print(\"not wierd\")\n",
    "elif n>=6 and n<=20:\n",
    "    print(\"wierd\")\n",
    "elif n>20:\n",
    "    print(\" not wierd\")"
   ]
  },
  {
   "cell_type": "code",
   "execution_count": null,
   "id": "f4153332",
   "metadata": {},
   "outputs": [],
   "source": []
  }
 ],
 "metadata": {
  "kernelspec": {
   "display_name": "Python 3 (ipykernel)",
   "language": "python",
   "name": "python3"
  },
  "language_info": {
   "codemirror_mode": {
    "name": "ipython",
    "version": 3
   },
   "file_extension": ".py",
   "mimetype": "text/x-python",
   "name": "python",
   "nbconvert_exporter": "python",
   "pygments_lexer": "ipython3",
   "version": "3.9.13"
  }
 },
 "nbformat": 4,
 "nbformat_minor": 5
}
