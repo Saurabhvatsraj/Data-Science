{
 "cells": [
  {
   "cell_type": "markdown",
   "id": "975099d7",
   "metadata": {},
   "source": [
    "QUES-1\n",
    "\n",
    "Wap to print odd and even using user input?"
   ]
  },
  {
   "cell_type": "code",
   "execution_count": 1,
   "id": "32e6d8e6",
   "metadata": {},
   "outputs": [
    {
     "name": "stdout",
     "output_type": "stream",
     "text": [
      "Enter the number 8\n",
      "odd 1\n",
      "even 2\n",
      "odd 3\n",
      "even 4\n",
      "odd 5\n",
      "even 6\n",
      "odd 7\n",
      "even 8\n"
     ]
    }
   ],
   "source": [
    "n=int(input(\"Enter the number \"))\n",
    "for i in range(1,n+1):\n",
    "    if i%2==0:\n",
    "        print(\"even\",i)\n",
    "    else:\n",
    "        print(\"odd\",i)"
   ]
  },
  {
   "cell_type": "markdown",
   "id": "e6d09b1a",
   "metadata": {},
   "source": [
    "QUES-2\n",
    "\n",
    "Wap to count total digit in a number 489287 ?"
   ]
  },
  {
   "cell_type": "code",
   "execution_count": 3,
   "id": "18816b9f",
   "metadata": {},
   "outputs": [
    {
     "name": "stdout",
     "output_type": "stream",
     "text": [
      "No of digit   6\n"
     ]
    }
   ],
   "source": [
    "n=489287\n",
    "digit=0\n",
    "while n>0:\n",
    "    digit=digit+1\n",
    "    n=n//10\n",
    "print(\"No of digit  \",digit)\n",
    "    "
   ]
  },
  {
   "cell_type": "markdown",
   "id": "3a1dbf18",
   "metadata": {},
   "source": [
    "QUES-3\n",
    "\n",
    "Wap  to print reverse the given integer?\n"
   ]
  },
  {
   "cell_type": "code",
   "execution_count": 6,
   "id": "543785cf",
   "metadata": {},
   "outputs": [
    {
     "name": "stdout",
     "output_type": "stream",
     "text": [
      "Reverse number is -->  132304\n"
     ]
    }
   ],
   "source": [
    "n=403231\n",
    "reverse=0\n",
    "while n>0:\n",
    "    remainder=n%10\n",
    "    reverse=(reverse*10)+remainder\n",
    "    n=n//10\n",
    "print(\"Reverse number is --> \",reverse)"
   ]
  },
  {
   "cell_type": "markdown",
   "id": "37e0c449",
   "metadata": {},
   "source": [
    "QUES-4\n",
    "\n",
    "Wap to print  check a integer is palindrome or not ?"
   ]
  },
  {
   "cell_type": "code",
   "execution_count": 9,
   "id": "9985c29f",
   "metadata": {},
   "outputs": [
    {
     "name": "stdout",
     "output_type": "stream",
     "text": [
      "enter the number7462942\n",
      "no palindrome 2492647\n"
     ]
    }
   ],
   "source": [
    "n=int(input(\"enter the number\"))\n",
    "tem_num=n\n",
    "reverse=0\n",
    "while tem_num>0:\n",
    "    remainder=tem_num%10\n",
    "    reverse=(reverse*10)+remainder\n",
    "    tem_num=tem_num//10\n",
    "    \n",
    "if n==tem_num:\n",
    "    print(\"palindrome\",reverse)\n",
    "else:\n",
    "    print(\"no palindrome\",reverse)\n"
   ]
  },
  {
   "cell_type": "code",
   "execution_count": 13,
   "id": "bc9f9d78",
   "metadata": {},
   "outputs": [
    {
     "name": "stdout",
     "output_type": "stream",
     "text": [
      "enter the number739\n",
      "no plaindrome 739\n"
     ]
    }
   ],
   "source": [
    "#2nd type\n",
    "\n",
    "n=int(input(\"enter the number\"))\n",
    "if n==int(str(n)[::-1]):\n",
    "    print(\"plaindrome\",n)\n",
    "else:\n",
    "    print(\"no plaindrome\",n)"
   ]
  },
  {
   "cell_type": "markdown",
   "id": "77fbb3ed",
   "metadata": {},
   "source": [
    "QUES-5\n",
    "\n",
    "Wap to print sum of digit of a given number ?"
   ]
  },
  {
   "cell_type": "code",
   "execution_count": 17,
   "id": "d2f79f49",
   "metadata": {},
   "outputs": [
    {
     "name": "stdout",
     "output_type": "stream",
     "text": [
      "41\n"
     ]
    }
   ],
   "source": [
    "n=74984270\n",
    "b=0\n",
    "while n>0:\n",
    "    digit=n%10\n",
    "    b=b+digit\n",
    "    n=n//10\n",
    "print(b)"
   ]
  },
  {
   "cell_type": "markdown",
   "id": "85f575c0",
   "metadata": {},
   "source": [
    "QUES-6\n",
    "\n",
    "Wap to print sum of square of digit of a given number ?"
   ]
  },
  {
   "cell_type": "code",
   "execution_count": 22,
   "id": "523ef075",
   "metadata": {},
   "outputs": [
    {
     "name": "stdout",
     "output_type": "stream",
     "text": [
      "279\n"
     ]
    }
   ],
   "source": [
    "n=74984270\n",
    "b=0\n",
    "while n>0:\n",
    "    digit=n%10\n",
    "    b=b+digit**2\n",
    "    n=n//10\n",
    "print(b)"
   ]
  },
  {
   "cell_type": "markdown",
   "id": "c7eedb05",
   "metadata": {},
   "source": [
    "QUES-7\n",
    "\n",
    "Wap to print sum of cube of digit of a given number ?"
   ]
  },
  {
   "cell_type": "code",
   "execution_count": 25,
   "id": "9bf4b0fc",
   "metadata": {},
   "outputs": [
    {
     "name": "stdout",
     "output_type": "stream",
     "text": [
      "2063\n"
     ]
    }
   ],
   "source": [
    "n=74984270\n",
    "b=0\n",
    "while n>0:\n",
    "    digit=n%10\n",
    "    b=b+digit**3\n",
    "    n=n//10\n",
    "print(b)"
   ]
  },
  {
   "cell_type": "markdown",
   "id": "ea707f86",
   "metadata": {},
   "source": [
    "QUES-8\n",
    "\n",
    "Wap to print product of digit ofa given number ?"
   ]
  },
  {
   "cell_type": "code",
   "execution_count": 26,
   "id": "ce51596d",
   "metadata": {},
   "outputs": [
    {
     "name": "stdout",
     "output_type": "stream",
     "text": [
      "0\n"
     ]
    }
   ],
   "source": [
    "n=74984270\n",
    "b=1\n",
    "while n>0:\n",
    "    digit=n%10\n",
    "    b=b*digit\n",
    "    n=n//10\n",
    "print(b)"
   ]
  },
  {
   "cell_type": "markdown",
   "id": "68075946",
   "metadata": {},
   "source": [
    "QUES-9\n",
    "\n",
    "Wap to print reverse of string ?"
   ]
  },
  {
   "cell_type": "code",
   "execution_count": 27,
   "id": "c2257f82",
   "metadata": {},
   "outputs": [
    {
     "name": "stdout",
     "output_type": "stream",
     "text": [
      "AIDNI\n"
     ]
    }
   ],
   "source": [
    "string=\"INDIA\"\n",
    "rev_str=string[::-1]\n",
    "print(rev_str)"
   ]
  },
  {
   "cell_type": "markdown",
   "id": "299dbd35",
   "metadata": {},
   "source": [
    "QUES-10\n",
    "\n",
    "Wap to print given string is palindrome or not  ?"
   ]
  },
  {
   "cell_type": "code",
   "execution_count": 28,
   "id": "e1190c9b",
   "metadata": {},
   "outputs": [
    {
     "name": "stdout",
     "output_type": "stream",
     "text": [
      "enter the stringmam\n",
      "is palindrome mam\n"
     ]
    }
   ],
   "source": [
    "string=input(\"enter the string\")\n",
    "if string==string[::-1]:\n",
    "    print(\"is palindrome\",string)\n",
    "else:\n",
    "    print(\"no palindrome\",string)"
   ]
  },
  {
   "cell_type": "markdown",
   "id": "31af22d5",
   "metadata": {},
   "source": [
    " QUES-11\n",
    " \n",
    " Wap to print factorial of a given number  ?"
   ]
  },
  {
   "cell_type": "code",
   "execution_count": 31,
   "id": "663b4fa0",
   "metadata": {},
   "outputs": [
    {
     "name": "stdout",
     "output_type": "stream",
     "text": [
      "Enter  the number5\n",
      "120\n"
     ]
    }
   ],
   "source": [
    "n=int(input(\"Enter  the number\"))\n",
    "fact=1\n",
    "while n>0:\n",
    "    fact=fact*n\n",
    "    n=n-1\n",
    "print(fact)\n",
    "    "
   ]
  },
  {
   "cell_type": "markdown",
   "id": "238f9100",
   "metadata": {},
   "source": [
    "QUES-12\n",
    "\n",
    "Wap to print fabonacci series  a given number  ?\n"
   ]
  },
  {
   "cell_type": "code",
   "execution_count": 37,
   "id": "f319720c",
   "metadata": {},
   "outputs": [
    {
     "name": "stdout",
     "output_type": "stream",
     "text": [
      "Enter  the number10\n",
      "0\n",
      "1\n",
      "1\n",
      "2\n",
      "3\n",
      "5\n",
      "8\n"
     ]
    }
   ],
   "source": [
    "n=int(input(\"Enter  the number\"))\n",
    "x=0\n",
    "y=1\n",
    "z=0\n",
    "while z<=n:\n",
    "    print(z)\n",
    "    x=y\n",
    "    y=z\n",
    "    z=x+y"
   ]
  },
  {
   "cell_type": "markdown",
   "id": "00d5bb80",
   "metadata": {},
   "source": [
    "QUES- 13\n",
    "\n",
    "Wap to find a number is prime or not  ?\n"
   ]
  },
  {
   "cell_type": "code",
   "execution_count": 39,
   "id": "1b3cbd20",
   "metadata": {},
   "outputs": [
    {
     "name": "stdout",
     "output_type": "stream",
     "text": [
      "Enter the number19\n",
      "Prime number 19\n"
     ]
    }
   ],
   "source": [
    "n=int(input(\"Enter the number\"))\n",
    "k=0\n",
    "for i in range(1,n+1):\n",
    "    if n%i==0:\n",
    "        k=k+1\n",
    "if k==2:\n",
    "    print(\"Prime number\",n)\n",
    "else:\n",
    "    print(\"not prime number\",n)"
   ]
  },
  {
   "cell_type": "code",
   "execution_count": null,
   "id": "1a7c0a65",
   "metadata": {},
   "outputs": [],
   "source": []
  }
 ],
 "metadata": {
  "kernelspec": {
   "display_name": "Python 3 (ipykernel)",
   "language": "python",
   "name": "python3"
  },
  "language_info": {
   "codemirror_mode": {
    "name": "ipython",
    "version": 3
   },
   "file_extension": ".py",
   "mimetype": "text/x-python",
   "name": "python",
   "nbconvert_exporter": "python",
   "pygments_lexer": "ipython3",
   "version": "3.9.13"
  }
 },
 "nbformat": 4,
 "nbformat_minor": 5
}
