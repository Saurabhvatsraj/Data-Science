{
 "cells": [
  {
   "cell_type": "code",
   "execution_count": 1,
   "id": "46ba8859",
   "metadata": {},
   "outputs": [],
   "source": [
    "x={\n",
    "    'name':'abc',\n",
    "    'age':20,\n",
    "    'salary':'100'\n",
    "}"
   ]
  },
  {
   "cell_type": "code",
   "execution_count": 2,
   "id": "f6792e4e",
   "metadata": {},
   "outputs": [
    {
     "data": {
      "text/plain": [
       "{'name': 'abc', 'age': 20, 'salary': '100'}"
      ]
     },
     "execution_count": 2,
     "metadata": {},
     "output_type": "execute_result"
    }
   ],
   "source": [
    "x"
   ]
  },
  {
   "cell_type": "code",
   "execution_count": 3,
   "id": "5db81a78",
   "metadata": {},
   "outputs": [
    {
     "data": {
      "text/plain": [
       "dict"
      ]
     },
     "execution_count": 3,
     "metadata": {},
     "output_type": "execute_result"
    }
   ],
   "source": [
    "type(x)"
   ]
  },
  {
   "cell_type": "code",
   "execution_count": 4,
   "id": "975eb4e1",
   "metadata": {},
   "outputs": [
    {
     "data": {
      "text/plain": [
       "'abc'"
      ]
     },
     "execution_count": 4,
     "metadata": {},
     "output_type": "execute_result"
    }
   ],
   "source": [
    "#Slicing in dic--\n",
    "\n",
    "x['name']"
   ]
  },
  {
   "cell_type": "code",
   "execution_count": 6,
   "id": "bab34c72",
   "metadata": {},
   "outputs": [
    {
     "data": {
      "text/plain": [
       "'100'"
      ]
     },
     "execution_count": 6,
     "metadata": {},
     "output_type": "execute_result"
    }
   ],
   "source": [
    "x['salary']"
   ]
  },
  {
   "cell_type": "code",
   "execution_count": 7,
   "id": "5ce46deb",
   "metadata": {},
   "outputs": [],
   "source": [
    "#Changing the data \n",
    "x['name']='pqr'"
   ]
  },
  {
   "cell_type": "code",
   "execution_count": 8,
   "id": "10da2f58",
   "metadata": {},
   "outputs": [
    {
     "data": {
      "text/plain": [
       "{'name': 'pqr', 'age': 20, 'salary': '100'}"
      ]
     },
     "execution_count": 8,
     "metadata": {},
     "output_type": "execute_result"
    }
   ],
   "source": [
    "x"
   ]
  },
  {
   "cell_type": "code",
   "execution_count": 9,
   "id": "77d5bf1b",
   "metadata": {},
   "outputs": [
    {
     "data": {
      "text/plain": [
       "'pqr'"
      ]
     },
     "execution_count": 9,
     "metadata": {},
     "output_type": "execute_result"
    }
   ],
   "source": [
    "x['name']"
   ]
  },
  {
   "cell_type": "code",
   "execution_count": 12,
   "id": "7ac761c9",
   "metadata": {},
   "outputs": [
    {
     "data": {
      "text/plain": [
       "{'name': ['a', 'b', 'c'], 'age': [20, 49, 39], 'salry': ['26k', 90000, '67k']}"
      ]
     },
     "execution_count": 12,
     "metadata": {},
     "output_type": "execute_result"
    }
   ],
   "source": [
    "#name, age  and salary store in a list or tuple--\n",
    "\n",
    "z={\n",
    "    'name':['a','b','c'],\n",
    "    'age':[20,49,39],\n",
    "    'salry':['26k',90000,'67k']\n",
    "    \n",
    "}\n",
    "z"
   ]
  },
  {
   "cell_type": "code",
   "execution_count": 13,
   "id": "0ba68c14",
   "metadata": {},
   "outputs": [
    {
     "data": {
      "text/plain": [
       "['a', 'b', 'c']"
      ]
     },
     "execution_count": 13,
     "metadata": {},
     "output_type": "execute_result"
    }
   ],
   "source": [
    "z['name']"
   ]
  },
  {
   "cell_type": "code",
   "execution_count": 14,
   "id": "3190cb82",
   "metadata": {},
   "outputs": [
    {
     "data": {
      "text/plain": [
       "'b'"
      ]
     },
     "execution_count": 14,
     "metadata": {},
     "output_type": "execute_result"
    }
   ],
   "source": [
    "z['name'][1]"
   ]
  },
  {
   "cell_type": "code",
   "execution_count": 15,
   "id": "5ad09900",
   "metadata": {},
   "outputs": [],
   "source": [
    "z['name'][2]='pqr'"
   ]
  },
  {
   "cell_type": "code",
   "execution_count": 16,
   "id": "cce30769",
   "metadata": {},
   "outputs": [
    {
     "data": {
      "text/plain": [
       "{'name': ['a', 'b', 'pqr'],\n",
       " 'age': [20, 49, 39],\n",
       " 'salry': ['26k', 90000, '67k']}"
      ]
     },
     "execution_count": 16,
     "metadata": {},
     "output_type": "execute_result"
    }
   ],
   "source": [
    "z"
   ]
  },
  {
   "cell_type": "code",
   "execution_count": 17,
   "id": "6852cc12",
   "metadata": {},
   "outputs": [],
   "source": [
    "#Let's make a dic inside a dictionary\n",
    "\n",
    "x={\n",
    "    'name':'abc',\n",
    "    'age':20,\n",
    "    'z':{\n",
    "        'salary':900\n",
    "    }\n",
    "}"
   ]
  },
  {
   "cell_type": "code",
   "execution_count": 18,
   "id": "98e1c05b",
   "metadata": {},
   "outputs": [
    {
     "data": {
      "text/plain": [
       "{'name': 'abc', 'age': 20, 'z': {'salary': 900}}"
      ]
     },
     "execution_count": 18,
     "metadata": {},
     "output_type": "execute_result"
    }
   ],
   "source": [
    "x"
   ]
  },
  {
   "cell_type": "code",
   "execution_count": 19,
   "id": "cc35968c",
   "metadata": {},
   "outputs": [
    {
     "data": {
      "text/plain": [
       "'abc'"
      ]
     },
     "execution_count": 19,
     "metadata": {},
     "output_type": "execute_result"
    }
   ],
   "source": [
    "x['name']"
   ]
  },
  {
   "cell_type": "code",
   "execution_count": 20,
   "id": "4dedf501",
   "metadata": {},
   "outputs": [
    {
     "data": {
      "text/plain": [
       "{'salary': 900}"
      ]
     },
     "execution_count": 20,
     "metadata": {},
     "output_type": "execute_result"
    }
   ],
   "source": [
    "x['z']"
   ]
  },
  {
   "cell_type": "code",
   "execution_count": 21,
   "id": "b46b3220",
   "metadata": {},
   "outputs": [],
   "source": [
    "x['z']['salary']=1000"
   ]
  },
  {
   "cell_type": "code",
   "execution_count": 22,
   "id": "74a715ec",
   "metadata": {},
   "outputs": [
    {
     "data": {
      "text/plain": [
       "{'name': 'abc', 'age': 20, 'z': {'salary': 1000}}"
      ]
     },
     "execution_count": 22,
     "metadata": {},
     "output_type": "execute_result"
    }
   ],
   "source": [
    "x"
   ]
  },
  {
   "cell_type": "code",
   "execution_count": 1,
   "id": "d6ef1a79",
   "metadata": {},
   "outputs": [],
   "source": [
    "#Dictionary does not allowed  duplicate value\n",
    "\n",
    "x={\n",
    "    'name':'a',\n",
    "    'age':20,\n",
    "    0:1,\n",
    "    1:'0',\n",
    "    'z':{\n",
    "        'address':'delhi',\n",
    "        0:\"hello\",\n",
    "        '1':1,\n",
    "        \"1\":1245\n",
    "    }\n",
    "}"
   ]
  },
  {
   "cell_type": "code",
   "execution_count": 2,
   "id": "66879b8c",
   "metadata": {},
   "outputs": [
    {
     "data": {
      "text/plain": [
       "{'name': 'a',\n",
       " 'age': 20,\n",
       " 0: 1,\n",
       " 1: '0',\n",
       " 'z': {'address': 'delhi', 0: 'hello', '1': 1245}}"
      ]
     },
     "execution_count": 2,
     "metadata": {},
     "output_type": "execute_result"
    }
   ],
   "source": [
    "x"
   ]
  },
  {
   "cell_type": "code",
   "execution_count": 3,
   "id": "4b529c46",
   "metadata": {},
   "outputs": [
    {
     "data": {
      "text/plain": [
       "1"
      ]
     },
     "execution_count": 3,
     "metadata": {},
     "output_type": "execute_result"
    }
   ],
   "source": [
    "x[0]"
   ]
  },
  {
   "cell_type": "code",
   "execution_count": 4,
   "id": "2fc4328b",
   "metadata": {},
   "outputs": [
    {
     "data": {
      "text/plain": [
       "'hello'"
      ]
     },
     "execution_count": 4,
     "metadata": {},
     "output_type": "execute_result"
    }
   ],
   "source": [
    "x['z'][0]"
   ]
  },
  {
   "cell_type": "code",
   "execution_count": 7,
   "id": "8862e7a0",
   "metadata": {},
   "outputs": [
    {
     "data": {
      "text/plain": [
       "1245"
      ]
     },
     "execution_count": 7,
     "metadata": {},
     "output_type": "execute_result"
    }
   ],
   "source": [
    "x['z']['1']"
   ]
  },
  {
   "cell_type": "code",
   "execution_count": 8,
   "id": "ffdec9f4",
   "metadata": {},
   "outputs": [
    {
     "data": {
      "text/plain": [
       "5"
      ]
     },
     "execution_count": 8,
     "metadata": {},
     "output_type": "execute_result"
    }
   ],
   "source": [
    "#Dictionary Method\n",
    "\n",
    "# 1. Keys  2. Values   3.Items\n",
    "len(x)"
   ]
  },
  {
   "cell_type": "code",
   "execution_count": 9,
   "id": "5b500f62",
   "metadata": {},
   "outputs": [
    {
     "data": {
      "text/plain": [
       "3"
      ]
     },
     "execution_count": 9,
     "metadata": {},
     "output_type": "execute_result"
    }
   ],
   "source": [
    "len(x['z'])"
   ]
  },
  {
   "cell_type": "code",
   "execution_count": 10,
   "id": "f75d8e21",
   "metadata": {},
   "outputs": [],
   "source": [
    "x={\n",
    "    'name':'ram',\n",
    "    'salary':90000,\n",
    "    'addd':'D22 delhi'\n",
    "}"
   ]
  },
  {
   "cell_type": "code",
   "execution_count": 11,
   "id": "5d4a0b26",
   "metadata": {},
   "outputs": [
    {
     "data": {
      "text/plain": [
       "{'name': 'ram', 'salary': 90000, 'addd': 'D22 delhi'}"
      ]
     },
     "execution_count": 11,
     "metadata": {},
     "output_type": "execute_result"
    }
   ],
   "source": [
    "x"
   ]
  },
  {
   "cell_type": "code",
   "execution_count": 12,
   "id": "c52dbbfa",
   "metadata": {},
   "outputs": [],
   "source": [
    "#Update\n",
    "\n",
    "x.update({'name':'pqr'})"
   ]
  },
  {
   "cell_type": "code",
   "execution_count": 13,
   "id": "002acef0",
   "metadata": {},
   "outputs": [
    {
     "data": {
      "text/plain": [
       "{'name': 'pqr', 'salary': 90000, 'addd': 'D22 delhi'}"
      ]
     },
     "execution_count": 13,
     "metadata": {},
     "output_type": "execute_result"
    }
   ],
   "source": [
    "x"
   ]
  },
  {
   "cell_type": "code",
   "execution_count": 14,
   "id": "71db57b7",
   "metadata": {},
   "outputs": [],
   "source": [
    "x.update({'addd':\"A201 JAI\"})"
   ]
  },
  {
   "cell_type": "code",
   "execution_count": 16,
   "id": "d173deda",
   "metadata": {},
   "outputs": [
    {
     "data": {
      "text/plain": [
       "{'name': 'pqr', 'salary': 90000, 'addd': 'A201 JAI'}"
      ]
     },
     "execution_count": 16,
     "metadata": {},
     "output_type": "execute_result"
    }
   ],
   "source": [
    "x"
   ]
  },
  {
   "cell_type": "code",
   "execution_count": 17,
   "id": "b01e52eb",
   "metadata": {},
   "outputs": [],
   "source": [
    "#Clear-- clear the dictionary\n",
    "\n",
    "x.clear()"
   ]
  },
  {
   "cell_type": "code",
   "execution_count": 18,
   "id": "0cfb9a66",
   "metadata": {},
   "outputs": [
    {
     "data": {
      "text/plain": [
       "{}"
      ]
     },
     "execution_count": 18,
     "metadata": {},
     "output_type": "execute_result"
    }
   ],
   "source": [
    "x"
   ]
  },
  {
   "cell_type": "code",
   "execution_count": 19,
   "id": "a7ec1e66",
   "metadata": {},
   "outputs": [
    {
     "data": {
      "text/plain": [
       "{'name': 'ram', 'salary': 90000, 'addd': 'D22 delhi'}"
      ]
     },
     "execution_count": 19,
     "metadata": {},
     "output_type": "execute_result"
    }
   ],
   "source": [
    "#Copy--- copy of any list\n",
    "\n",
    "x={\n",
    "    'name':'ram',\n",
    "    'salary':90000,\n",
    "    'addd':'D22 delhi'\n",
    "}\n",
    "x"
   ]
  },
  {
   "cell_type": "code",
   "execution_count": 21,
   "id": "60a4ebf7",
   "metadata": {},
   "outputs": [],
   "source": [
    "y=x.copy()"
   ]
  },
  {
   "cell_type": "code",
   "execution_count": 22,
   "id": "f66ec8e0",
   "metadata": {},
   "outputs": [
    {
     "data": {
      "text/plain": [
       "{'name': 'ram', 'salary': 90000, 'addd': 'D22 delhi'}"
      ]
     },
     "execution_count": 22,
     "metadata": {},
     "output_type": "execute_result"
    }
   ],
   "source": [
    "y"
   ]
  },
  {
   "cell_type": "code",
   "execution_count": 23,
   "id": "7b9c3dfb",
   "metadata": {},
   "outputs": [
    {
     "data": {
      "text/plain": [
       "'ram'"
      ]
     },
     "execution_count": 23,
     "metadata": {},
     "output_type": "execute_result"
    }
   ],
   "source": [
    "#Pop --dlt the data\n",
    "\n",
    "y.pop('name')"
   ]
  },
  {
   "cell_type": "code",
   "execution_count": 24,
   "id": "e49e8ebd",
   "metadata": {},
   "outputs": [
    {
     "data": {
      "text/plain": [
       "{'salary': 90000, 'addd': 'D22 delhi'}"
      ]
     },
     "execution_count": 24,
     "metadata": {},
     "output_type": "execute_result"
    }
   ],
   "source": [
    "y"
   ]
  },
  {
   "cell_type": "code",
   "execution_count": 26,
   "id": "15b6568c",
   "metadata": {},
   "outputs": [
    {
     "data": {
      "text/plain": [
       "90000"
      ]
     },
     "execution_count": 26,
     "metadata": {},
     "output_type": "execute_result"
    }
   ],
   "source": [
    "y.pop('salary')"
   ]
  },
  {
   "cell_type": "code",
   "execution_count": 27,
   "id": "8b4534b4",
   "metadata": {},
   "outputs": [
    {
     "data": {
      "text/plain": [
       "{'addd': 'D22 delhi'}"
      ]
     },
     "execution_count": 27,
     "metadata": {},
     "output_type": "execute_result"
    }
   ],
   "source": [
    "y"
   ]
  },
  {
   "cell_type": "code",
   "execution_count": 28,
   "id": "3edca25a",
   "metadata": {},
   "outputs": [
    {
     "data": {
      "text/plain": [
       "{'name': 'ram', 'salary': 90000, 'addd': 'D22 delhi'}"
      ]
     },
     "execution_count": 28,
     "metadata": {},
     "output_type": "execute_result"
    }
   ],
   "source": [
    "#Get---out of the data\n",
    "x={\n",
    "    'name':'ram',\n",
    "    'salary':90000,\n",
    "    'addd':'D22 delhi'\n",
    "}\n",
    "x\n"
   ]
  },
  {
   "cell_type": "code",
   "execution_count": null,
   "id": "916daf1a",
   "metadata": {},
   "outputs": [],
   "source": [
    "x.get()"
   ]
  }
 ],
 "metadata": {
  "kernelspec": {
   "display_name": "Python 3 (ipykernel)",
   "language": "python",
   "name": "python3"
  },
  "language_info": {
   "codemirror_mode": {
    "name": "ipython",
    "version": 3
   },
   "file_extension": ".py",
   "mimetype": "text/x-python",
   "name": "python",
   "nbconvert_exporter": "python",
   "pygments_lexer": "ipython3",
   "version": "3.9.13"
  }
 },
 "nbformat": 4,
 "nbformat_minor": 5
}
