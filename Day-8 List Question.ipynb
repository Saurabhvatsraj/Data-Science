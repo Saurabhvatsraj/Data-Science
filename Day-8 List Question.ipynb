{
 "cells": [
  {
   "cell_type": "code",
   "execution_count": 1,
   "id": "a4043dac",
   "metadata": {},
   "outputs": [
    {
     "data": {
      "text/plain": [
       "[]"
      ]
     },
     "execution_count": 1,
     "metadata": {},
     "output_type": "execute_result"
    }
   ],
   "source": [
    "# Print empty list?\n",
    "x=[]\n",
    "x"
   ]
  },
  {
   "cell_type": "code",
   "execution_count": 2,
   "id": "3f27d162",
   "metadata": {},
   "outputs": [
    {
     "data": {
      "text/plain": [
       "[2]"
      ]
     },
     "execution_count": 2,
     "metadata": {},
     "output_type": "execute_result"
    }
   ],
   "source": [
    "#Print single element list\n",
    "\n",
    "x=[2]\n",
    "x"
   ]
  },
  {
   "cell_type": "code",
   "execution_count": 5,
   "id": "01815c66",
   "metadata": {},
   "outputs": [
    {
     "name": "stdout",
     "output_type": "stream",
     "text": [
      "285\n"
     ]
    }
   ],
   "source": [
    "#Ques Wap to add the number present in the list?\n",
    "\n",
    "x=[38,90,5,8,44,100]\n",
    "b=0\n",
    "for i in x:\n",
    "    b=b+i\n",
    "print(b)\n",
    "    "
   ]
  },
  {
   "cell_type": "code",
   "execution_count": 6,
   "id": "fe15389e",
   "metadata": {},
   "outputs": [
    {
     "name": "stdout",
     "output_type": "stream",
     "text": [
      "Even 20\n",
      "Odd 31\n",
      "Odd 43\n",
      "Even 78\n",
      "Even 12\n",
      "Odd 7\n",
      "Odd 9\n",
      "Odd 11\n",
      "Odd 19\n",
      "Even 40\n"
     ]
    }
   ],
   "source": [
    "#Ques Wap to find odd and even in the given list?\n",
    "\n",
    "x=[20,31,43,78,12,7,9,11,19,40]\n",
    "\n",
    "for i in x:\n",
    "    if i%2==0:\n",
    "        print(\"Even\",i)\n",
    "    else:\n",
    "        print(\"Odd\",i)"
   ]
  },
  {
   "cell_type": "code",
   "execution_count": 7,
   "id": "42a4bab2",
   "metadata": {},
   "outputs": [
    {
     "name": "stdout",
     "output_type": "stream",
     "text": [
      "count even number 4\n",
      "count odd number 6\n"
     ]
    }
   ],
   "source": [
    "#Ques  Wap to count  odd and even number in the given list?\n",
    "\n",
    "x=[20,31,43,78,12,7,9,11,19,40]\n",
    "even_count=0\n",
    "odd_count=0\n",
    "for i in x:\n",
    "    if i%2==0:\n",
    "        even_count=even_count+1\n",
    "        \n",
    "    else:\n",
    "        odd_count=odd_count+1\n",
    "\n",
    "print(\"count even number\",even_count)\n",
    "print(\"count odd number\",odd_count)"
   ]
  },
  {
   "cell_type": "code",
   "execution_count": 9,
   "id": "f910c876",
   "metadata": {},
   "outputs": [
    {
     "name": "stdout",
     "output_type": "stream",
     "text": [
      "Present\n"
     ]
    }
   ],
   "source": [
    "#Ques  Wap to print a number in the list or not?\n",
    "\n",
    "x=[20,31,43,78,12,7,9,11,19,40]\n",
    "\n",
    "if 40 in x:\n",
    "    print(\"Present\")\n",
    "else:\n",
    "    print(\"Not Present\")"
   ]
  },
  {
   "cell_type": "code",
   "execution_count": 14,
   "id": "aaea096a",
   "metadata": {},
   "outputs": [
    {
     "name": "stdout",
     "output_type": "stream",
     "text": [
      "Present\n"
     ]
    }
   ],
   "source": [
    "#Ques  Wap to print a string  in the list or not?\n",
    "\n",
    "x=['sql','python','excel','power bi']\n",
    "\n",
    "if 'power bi' in x:\n",
    "    print(\"Present\")\n",
    "else:\n",
    "    print(\"Not Present\")"
   ]
  },
  {
   "cell_type": "code",
   "execution_count": 35,
   "id": "0956c061",
   "metadata": {},
   "outputs": [
    {
     "name": "stdout",
     "output_type": "stream",
     "text": [
      "Maximum number in the list is: 78\n",
      "Minimum number in the list is: 7\n"
     ]
    }
   ],
   "source": [
    "#Ques  Wap to print a string  in the list or not?\n",
    "\n",
    "my_list = [20,31,43,78,12,7,9,11,19,40]\n",
    "\n",
    "max_num = my_list[0]\n",
    "min_num = my_list[0]\n",
    "\n",
    "for num in my_list:\n",
    "    if num > max_num:\n",
    "        max_num = num\n",
    "    if num < min_num:\n",
    "        min_num = num\n",
    "        \n",
    "print(\"Maximum number in the list is:\", max_num)\n",
    "print(\"Minimum number in the list is:\", min_num)"
   ]
  },
  {
   "cell_type": "code",
   "execution_count": 43,
   "id": "4f140e3c",
   "metadata": {},
   "outputs": [
    {
     "name": "stdout",
     "output_type": "stream",
     "text": [
      "7\n",
      "1\n"
     ]
    }
   ],
   "source": [
    "#Wap to print second maximum and second minimum number in the given list?\n",
    "\n",
    "x = [1,2,3,4,5,6,7]\n",
    "max1=max(x)\n",
    "max2=max(x)\n",
    "min1=min(x)\n",
    "min2=min(x)\n",
    "for i in x:\n",
    "    if i>max2 and i<max1:\n",
    "        max2=i\n",
    "    if i<min2 and i>min1:\n",
    "        min2=i\n",
    "print(max2)\n",
    "print(min2)"
   ]
  },
  {
   "cell_type": "code",
   "execution_count": null,
   "id": "fd62c368",
   "metadata": {},
   "outputs": [],
   "source": []
  }
 ],
 "metadata": {
  "kernelspec": {
   "display_name": "Python 3 (ipykernel)",
   "language": "python",
   "name": "python3"
  },
  "language_info": {
   "codemirror_mode": {
    "name": "ipython",
    "version": 3
   },
   "file_extension": ".py",
   "mimetype": "text/x-python",
   "name": "python",
   "nbconvert_exporter": "python",
   "pygments_lexer": "ipython3",
   "version": "3.9.13"
  }
 },
 "nbformat": 4,
 "nbformat_minor": 5
}
