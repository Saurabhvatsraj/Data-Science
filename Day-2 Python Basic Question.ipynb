{
 "cells": [
  {
   "cell_type": "code",
   "execution_count": 1,
   "id": "10f544ab",
   "metadata": {},
   "outputs": [
    {
     "name": "stdout",
     "output_type": "stream",
     "text": [
      "Enter the number4\n",
      "4\n"
     ]
    }
   ],
   "source": [
    "#how to take use input\n",
    "a=int(input(\"Enter the number\"))\n",
    "print(a)"
   ]
  },
  {
   "cell_type": "code",
   "execution_count": 2,
   "id": "5aee675a",
   "metadata": {},
   "outputs": [
    {
     "name": "stdout",
     "output_type": "stream",
     "text": [
      "15\n"
     ]
    }
   ],
   "source": [
    "#How to add two number ?\n",
    "a=7\n",
    "b=8\n",
    "c=a+b\n",
    "print(c)"
   ]
  },
  {
   "cell_type": "code",
   "execution_count": 7,
   "id": "db542963",
   "metadata": {},
   "outputs": [
    {
     "name": "stdout",
     "output_type": "stream",
     "text": [
      "Enter the number 1st---->  5\n",
      "Enter the number 2nd---->  4\n",
      "9\n"
     ]
    }
   ],
   "source": [
    "#How to add two number using user input?\n",
    "a=int(input(\"Enter the number 1st---->  \"))\n",
    "b=int(input(\"Enter the number 2nd---->  \"))\n",
    "c=a+b\n",
    "print(c)"
   ]
  },
  {
   "cell_type": "code",
   "execution_count": 8,
   "id": "62f5fbba",
   "metadata": {},
   "outputs": [
    {
     "name": "stdout",
     "output_type": "stream",
     "text": [
      "Enter the number 1st---->  7\n",
      "Enter the number 2nd---->  7\n",
      "14\n"
     ]
    }
   ],
   "source": [
    "a=input(\"Enter the number 1st---->  \")\n",
    "b=input(\"Enter the number 2nd---->  \")\n",
    "c=int(a)+int(b)\n",
    "print(c)"
   ]
  },
  {
   "cell_type": "code",
   "execution_count": 11,
   "id": "16e1bce4",
   "metadata": {},
   "outputs": [
    {
     "name": "stdout",
     "output_type": "stream",
     "text": [
      "Sub 1 marks-->  50\n",
      "Sub 2 marks-->  89\n",
      "Sub 3 marks-->  90\n",
      "Sub 4 marks-->  78\n",
      "Sub 5 marks-->  67\n",
      "student_avg_marks 74.8\n"
     ]
    }
   ],
   "source": [
    "#Wap to find the average marks of 5 student ?\n",
    "\n",
    "a=int(input(\"Sub 1 marks-->  \"))\n",
    "b=int(input(\"Sub 2 marks-->  \"))\n",
    "c=int(input(\"Sub 3 marks-->  \"))\n",
    "d=int(input(\"Sub 4 marks-->  \"))\n",
    "e=int(input(\"Sub 5 marks-->  \"))\n",
    "avg_marks=(a+b+c+d+e)/5\n",
    "print(\"student_avg_marks\",avg_marks)"
   ]
  },
  {
   "cell_type": "code",
   "execution_count": 12,
   "id": "2fcd4571",
   "metadata": {},
   "outputs": [
    {
     "name": "stdout",
     "output_type": "stream",
     "text": [
      "7 9\n"
     ]
    }
   ],
   "source": [
    "#Wap to swap  two number in python?\n",
    "\n",
    "a=9\n",
    "b=7\n",
    "a,b=b,a\n",
    "print(a,b)"
   ]
  },
  {
   "cell_type": "code",
   "execution_count": 13,
   "id": "16f6c36c",
   "metadata": {},
   "outputs": [
    {
     "name": "stdout",
     "output_type": "stream",
     "text": [
      "8 7\n"
     ]
    }
   ],
   "source": [
    "#Wap to swap two number with the help of third variable\n",
    "\n",
    "a=7\n",
    "b=8\n",
    "c=b\n",
    "b=a\n",
    "a=c\n",
    "print(a,b)"
   ]
  },
  {
   "cell_type": "code",
   "execution_count": 15,
   "id": "008e0bbf",
   "metadata": {},
   "outputs": [
    {
     "name": "stdout",
     "output_type": "stream",
     "text": [
      "Enter the number 1st---->  78\n",
      "Enter the number 2nd---->  10\n",
      "8\n"
     ]
    }
   ],
   "source": [
    "#Find the remainder of given numbe using user input?\n",
    "\n",
    "a=int(input(\"Enter the number 1st---->  \"))\n",
    "b=int(input(\"Enter the number 2nd---->  \"))\n",
    "c=a%b\n",
    "print(c)"
   ]
  },
  {
   "cell_type": "code",
   "execution_count": 16,
   "id": "20529820",
   "metadata": {},
   "outputs": [
    {
     "name": "stdout",
     "output_type": "stream",
     "text": [
      "Enter the number 1st---->  78\n",
      "Enter the number 2nd---->  10\n",
      "7\n"
     ]
    }
   ],
   "source": [
    "#Find the quotient of given numbe using user input?\n",
    "\n",
    "a=int(input(\"Enter the number 1st---->  \"))\n",
    "b=int(input(\"Enter the number 2nd---->  \"))\n",
    "c=a//b\n",
    "print(c)"
   ]
  },
  {
   "cell_type": "code",
   "execution_count": 17,
   "id": "a3e61470",
   "metadata": {},
   "outputs": [
    {
     "name": "stdout",
     "output_type": "stream",
     "text": [
      "Enter the number 1st---->  3\n",
      "Enter the number 2nd---->  0\n",
      "0\n"
     ]
    }
   ],
   "source": [
    "#Find the multiplie of given numbe using user input?\n",
    "\n",
    "a=int(input(\"Enter the number 1st---->  \"))\n",
    "b=int(input(\"Enter the number 2nd---->  \"))\n",
    "c=a*b\n",
    "print(c)"
   ]
  },
  {
   "cell_type": "code",
   "execution_count": null,
   "id": "422da0c2",
   "metadata": {},
   "outputs": [],
   "source": [
    "#Find the Square of given number\n",
    "\n",
    "a=int(input(\"Enter the number---->  \"))\n",
    "b=a**2\n",
    "print(b)\n"
   ]
  },
  {
   "cell_type": "code",
   "execution_count": null,
   "id": "8ca7413e",
   "metadata": {},
   "outputs": [],
   "source": []
  }
 ],
 "metadata": {
  "kernelspec": {
   "display_name": "Python 3 (ipykernel)",
   "language": "python",
   "name": "python3"
  },
  "language_info": {
   "codemirror_mode": {
    "name": "ipython",
    "version": 3
   },
   "file_extension": ".py",
   "mimetype": "text/x-python",
   "name": "python",
   "nbconvert_exporter": "python",
   "pygments_lexer": "ipython3",
   "version": "3.9.13"
  }
 },
 "nbformat": 4,
 "nbformat_minor": 5
}
