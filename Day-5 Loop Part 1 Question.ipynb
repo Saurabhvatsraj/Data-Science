{
 "cells": [
  {
   "cell_type": "markdown",
   "id": "b363d6c1",
   "metadata": {},
   "source": [
    "QUES-1\n",
    "\n",
    "Wap to print first 10 natural number?"
   ]
  },
  {
   "cell_type": "code",
   "execution_count": 1,
   "id": "aa518cfe",
   "metadata": {},
   "outputs": [
    {
     "name": "stdout",
     "output_type": "stream",
     "text": [
      "1\n",
      "2\n",
      "3\n",
      "4\n",
      "5\n",
      "6\n",
      "7\n",
      "8\n",
      "9\n",
      "10\n"
     ]
    }
   ],
   "source": [
    "for i in range(1,11):\n",
    "    print(i)"
   ]
  },
  {
   "cell_type": "markdown",
   "id": "c7cfee08",
   "metadata": {},
   "source": [
    "QUES-2\n",
    "\n",
    "Wap to print first N natural number?\n"
   ]
  },
  {
   "cell_type": "code",
   "execution_count": 2,
   "id": "df121632",
   "metadata": {},
   "outputs": [
    {
     "name": "stdout",
     "output_type": "stream",
     "text": [
      "Enter the number10\n",
      "1\n",
      "2\n",
      "3\n",
      "4\n",
      "5\n",
      "6\n",
      "7\n",
      "8\n",
      "9\n",
      "10\n"
     ]
    }
   ],
   "source": [
    "n=int(input(\"Enter the number\"))\n",
    "for i in range(1,n+1):\n",
    "    print(i)"
   ]
  },
  {
   "cell_type": "markdown",
   "id": "cd857e46",
   "metadata": {},
   "source": [
    "QUES-3\n",
    "\n",
    "Wap to print first N natural number in reverse oreder?\n"
   ]
  },
  {
   "cell_type": "code",
   "execution_count": 4,
   "id": "90151bb0",
   "metadata": {},
   "outputs": [
    {
     "name": "stdout",
     "output_type": "stream",
     "text": [
      "Enter the number10\n",
      "10\n",
      "9\n",
      "8\n",
      "7\n",
      "6\n",
      "5\n",
      "4\n",
      "3\n",
      "2\n",
      "1\n"
     ]
    }
   ],
   "source": [
    "n=int(input(\"Enter the number\"))\n",
    "for i in range(n,0,-1):\n",
    "    print(i)"
   ]
  },
  {
   "cell_type": "markdown",
   "id": "8d0c5259",
   "metadata": {},
   "source": [
    "QUES-4\n",
    "\n",
    "Wap to print sum of first N natural number?\n"
   ]
  },
  {
   "cell_type": "code",
   "execution_count": 7,
   "id": "39917d51",
   "metadata": {},
   "outputs": [
    {
     "name": "stdout",
     "output_type": "stream",
     "text": [
      "Enter the number20\n",
      "210\n"
     ]
    }
   ],
   "source": [
    "n=int(input(\"Enter the number\"))\n",
    "b=0\n",
    "for i in range(1,n+1):\n",
    "    b=b+i\n",
    "print(b)"
   ]
  },
  {
   "cell_type": "markdown",
   "id": "2f6101d1",
   "metadata": {},
   "source": [
    "QUES-5\n",
    "\n",
    "Wap to print sum of square of first N natural number?\n",
    "\n"
   ]
  },
  {
   "cell_type": "code",
   "execution_count": 10,
   "id": "5825ba98",
   "metadata": {},
   "outputs": [
    {
     "name": "stdout",
     "output_type": "stream",
     "text": [
      "Enter the number10\n",
      "385\n"
     ]
    }
   ],
   "source": [
    "n=int(input(\"Enter the number\"))\n",
    "b=0\n",
    "for i in range(1,n+1):\n",
    "    b=b+i**2\n",
    "print(b)\n"
   ]
  },
  {
   "cell_type": "markdown",
   "id": "786c8018",
   "metadata": {},
   "source": [
    "QUES-6\n",
    "\n",
    "Wap to print sum of cube of First N natural number?"
   ]
  },
  {
   "cell_type": "code",
   "execution_count": 11,
   "id": "f99bb7cd",
   "metadata": {},
   "outputs": [
    {
     "name": "stdout",
     "output_type": "stream",
     "text": [
      "Enter the number3\n",
      "36\n"
     ]
    }
   ],
   "source": [
    "n=int(input(\"Enter the number\"))\n",
    "b=0\n",
    "for i in range(1,n+1):\n",
    "    b=b+i**3\n",
    "    \n",
    "print(b)\n"
   ]
  },
  {
   "cell_type": "markdown",
   "id": "318e1b16",
   "metadata": {},
   "source": [
    "QUES-7\n",
    "\n",
    "Wap to print even number  from 1 to N ?\n"
   ]
  },
  {
   "cell_type": "code",
   "execution_count": 13,
   "id": "ee773823",
   "metadata": {},
   "outputs": [
    {
     "name": "stdout",
     "output_type": "stream",
     "text": [
      "Enter the number10\n",
      "Even number is --   2\n",
      "Even number is --   4\n",
      "Even number is --   6\n",
      "Even number is --   8\n",
      "Even number is --   10\n"
     ]
    }
   ],
   "source": [
    "n=int(input(\"Enter the number\"))\n",
    "\n",
    "for i in range(1,n+1):\n",
    "    if i%2==0:\n",
    "        print(\"Even number is --  \",i)"
   ]
  },
  {
   "cell_type": "markdown",
   "id": "f2c37a3d",
   "metadata": {},
   "source": [
    "QUES-8\n",
    "\n",
    "Wap to count even number  from 1 to N?\n"
   ]
  },
  {
   "cell_type": "code",
   "execution_count": 27,
   "id": "e4633528",
   "metadata": {},
   "outputs": [
    {
     "name": "stdout",
     "output_type": "stream",
     "text": [
      "Enter the number10\n",
      "total even number is --   5\n"
     ]
    }
   ],
   "source": [
    "n=int(input(\"Enter the number\"))\n",
    "count=0\n",
    "for i in range(1,n+1):\n",
    "    if i%2==0:\n",
    "        count=count+1\n",
    "print(\"total even number is --  \",count)"
   ]
  },
  {
   "cell_type": "markdown",
   "id": "3705857a",
   "metadata": {},
   "source": [
    "QUES-9\n",
    "\n",
    "Wap to sum of first N even munber?"
   ]
  },
  {
   "cell_type": "code",
   "execution_count": 28,
   "id": "4f15dcdf",
   "metadata": {},
   "outputs": [
    {
     "name": "stdout",
     "output_type": "stream",
     "text": [
      "Enter the number10\n",
      "total even number sum is --   30\n"
     ]
    }
   ],
   "source": [
    "n=int(input(\"Enter the number\"))\n",
    "total_sum=0\n",
    "for i in range(1,n+1):\n",
    "    if i%2==0:\n",
    "        total_sum=total_sum+i\n",
    "print(\"total even number sum is --  \",total_sum)"
   ]
  },
  {
   "cell_type": "markdown",
   "id": "7c9569c7",
   "metadata": {},
   "source": [
    "QUES-10\n",
    "\n",
    "Wap to print odd number from 1 to N ?"
   ]
  },
  {
   "cell_type": "code",
   "execution_count": 23,
   "id": "93d2d19d",
   "metadata": {},
   "outputs": [
    {
     "name": "stdout",
     "output_type": "stream",
     "text": [
      "Enter the number10\n",
      "odd number is --   1\n",
      "odd number is --   3\n",
      "odd number is --   5\n",
      "odd number is --   7\n",
      "odd number is --   9\n"
     ]
    }
   ],
   "source": [
    "n=int(input(\"Enter the number\"))\n",
    "\n",
    "for i in range(1,n+1):\n",
    "    if i%2!=0:\n",
    "        print(\"odd number is --  \",i)"
   ]
  },
  {
   "cell_type": "markdown",
   "id": "51ad7123",
   "metadata": {},
   "source": [
    "QUES-11\n",
    "\n",
    "Wap to count odd number from 1 to N?"
   ]
  },
  {
   "cell_type": "code",
   "execution_count": 31,
   "id": "7499be1d",
   "metadata": {},
   "outputs": [
    {
     "name": "stdout",
     "output_type": "stream",
     "text": [
      "Enter the number10\n",
      "total odd number is --   5\n"
     ]
    }
   ],
   "source": [
    "n=int(input(\"Enter the number\"))\n",
    "count=0\n",
    "for i in range(1,n+1):\n",
    "    if i%2!=0:\n",
    "        count=count+1\n",
    "print(\"total odd number is --  \",count)"
   ]
  },
  {
   "cell_type": "markdown",
   "id": "25fa2a6e",
   "metadata": {},
   "source": [
    "QUES-12\n",
    "\n",
    "Wap to sum of first N odd munber?"
   ]
  },
  {
   "cell_type": "code",
   "execution_count": 26,
   "id": "27e92c5f",
   "metadata": {},
   "outputs": [
    {
     "name": "stdout",
     "output_type": "stream",
     "text": [
      "Enter the number2\n",
      "total odd number sum is --   1\n"
     ]
    }
   ],
   "source": [
    "n=int(input(\"Enter the number\"))\n",
    "total_sum=0\n",
    "for i in range(1,n+1):\n",
    "    if i%2!=0:\n",
    "        total_sum=total_sum+i\n",
    "print(\"total odd number sum is --  \",total_sum)"
   ]
  },
  {
   "cell_type": "markdown",
   "id": "ca788c93",
   "metadata": {},
   "source": [
    "QUES-13\n",
    "\n",
    "Wap to print odd and even number from  1 to 30 using loop?"
   ]
  },
  {
   "cell_type": "code",
   "execution_count": 36,
   "id": "62214bca",
   "metadata": {
    "scrolled": true
   },
   "outputs": [
    {
     "name": "stdout",
     "output_type": "stream",
     "text": [
      "odd number 1\n",
      "Even number 2\n",
      "odd number 3\n",
      "Even number 4\n",
      "odd number 5\n",
      "Even number 6\n",
      "odd number 7\n",
      "Even number 8\n",
      "odd number 9\n",
      "Even number 10\n",
      "odd number 11\n",
      "Even number 12\n",
      "odd number 13\n",
      "Even number 14\n",
      "odd number 15\n",
      "Even number 16\n",
      "odd number 17\n",
      "Even number 18\n",
      "odd number 19\n",
      "Even number 20\n",
      "odd number 21\n",
      "Even number 22\n",
      "odd number 23\n",
      "Even number 24\n",
      "odd number 25\n",
      "Even number 26\n",
      "odd number 27\n",
      "Even number 28\n",
      "odd number 29\n",
      "Even number 30\n"
     ]
    }
   ],
   "source": [
    "n=30\n",
    "\n",
    "for i in range(1,n+1):\n",
    "    if i%2==0:\n",
    "        print(\"Even number\",i)\n",
    "        \n",
    "    else:\n",
    "        print(\"odd number\",i)"
   ]
  },
  {
   "cell_type": "markdown",
   "id": "d32c546b",
   "metadata": {},
   "source": [
    "Ques-14\n",
    "\n",
    "Wap to print odd and even number  using user input?\n"
   ]
  },
  {
   "cell_type": "code",
   "execution_count": 37,
   "id": "9d4ae67d",
   "metadata": {},
   "outputs": [
    {
     "name": "stdout",
     "output_type": "stream",
     "text": [
      "Enter the number10\n",
      "odd number  1\n",
      "even number  2\n",
      "odd number  3\n",
      "even number  4\n",
      "odd number  5\n",
      "even number  6\n",
      "odd number  7\n",
      "even number  8\n",
      "odd number  9\n",
      "even number  10\n"
     ]
    }
   ],
   "source": [
    "n=int(input(\"Enter the number\"))\n",
    "for i in range(1,n+1):\n",
    "    if i%2==0:\n",
    "        print(\"even number \",i)\n",
    "    else:\n",
    "        print(\"odd number \",i)"
   ]
  },
  {
   "cell_type": "code",
   "execution_count": null,
   "id": "e5df59fe",
   "metadata": {},
   "outputs": [],
   "source": []
  }
 ],
 "metadata": {
  "kernelspec": {
   "display_name": "Python 3 (ipykernel)",
   "language": "python",
   "name": "python3"
  },
  "language_info": {
   "codemirror_mode": {
    "name": "ipython",
    "version": 3
   },
   "file_extension": ".py",
   "mimetype": "text/x-python",
   "name": "python",
   "nbconvert_exporter": "python",
   "pygments_lexer": "ipython3",
   "version": "3.9.13"
  }
 },
 "nbformat": 4,
 "nbformat_minor": 5
}
